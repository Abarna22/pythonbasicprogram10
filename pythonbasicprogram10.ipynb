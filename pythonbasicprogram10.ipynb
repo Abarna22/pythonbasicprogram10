{
 "cells": [
  {
   "cell_type": "code",
   "execution_count": 1,
   "id": "8adc2464",
   "metadata": {},
   "outputs": [
    {
     "name": "stdout",
     "output_type": "stream",
     "text": [
      "45\n"
     ]
    }
   ],
   "source": [
    "\"\"\"1. Write a Python program to find sum of elements in list?\n",
    "Ans\"\"\"\n",
    "l=[1,2,3,4,5,6,7,8,9]\n",
    "s=sum(l)\n",
    "print(s)"
   ]
  },
  {
   "cell_type": "code",
   "execution_count": 8,
   "id": "d5404bd1",
   "metadata": {},
   "outputs": [
    {
     "name": "stdout",
     "output_type": "stream",
     "text": [
      "362880\n"
     ]
    }
   ],
   "source": [
    "\"\"\"2. Write a Python program to Multiply all numbers in the list?\n",
    "Ans\"\"\"\n",
    "l=[1,2,3,4,5,6,7,8,9]\n",
    "j=1\n",
    "for i in l:\n",
    "    j=i*j  \n",
    "print(j)"
   ]
  },
  {
   "cell_type": "code",
   "execution_count": 11,
   "id": "92fa03d8",
   "metadata": {},
   "outputs": [
    {
     "name": "stdout",
     "output_type": "stream",
     "text": [
      "1\n"
     ]
    }
   ],
   "source": [
    "\"\"\"3. Write a Python program to find smallest number in a list?\n",
    "Ans\"\"\"\n",
    "l=[1,3,5,7,8]\n",
    "x= min(l)\n",
    "print(x)"
   ]
  },
  {
   "cell_type": "code",
   "execution_count": 12,
   "id": "583404bd",
   "metadata": {},
   "outputs": [
    {
     "name": "stdout",
     "output_type": "stream",
     "text": [
      "90\n"
     ]
    }
   ],
   "source": [
    "\"\"\"4. Write a Python program to find largest number in a list?\n",
    "Ans\"\"\"\n",
    "l=[3,5,7,8,90]\n",
    "x= max(l)\n",
    "print(x)"
   ]
  },
  {
   "cell_type": "code",
   "execution_count": 21,
   "id": "32e7353b",
   "metadata": {},
   "outputs": [
    {
     "name": "stdout",
     "output_type": "stream",
     "text": [
      "Second largest number is: 45\n"
     ]
    }
   ],
   "source": [
    "\"\"\"5. Write a Python program to find second largest number in a list?\n",
    "Ans\"\"\"\n",
    "list1 = [10, 20, 4, 45, 99]\n",
    "list1.sort()\n",
    "print(\"Second largest number is:\", list1[-2])"
   ]
  },
  {
   "cell_type": "code",
   "execution_count": 23,
   "id": "2da3fe46",
   "metadata": {},
   "outputs": [
    {
     "name": "stdout",
     "output_type": "stream",
     "text": [
      "[78, 56]\n"
     ]
    }
   ],
   "source": [
    "\"\"\"6. Write a Python program to find N largest elements from a list?\n",
    "Ans\"\"\"\n",
    "list2=[56,78,45,2,3,5]\n",
    "n=2\n",
    "f_l=[]\n",
    "for i in range(0,n):\n",
    "    max1=0\n",
    "    for j in range(len(list2)):\n",
    "        if list2[j]>max1:\n",
    "            max1=list2[j]\n",
    "    list2.remove(max1)\n",
    "    f_l.append(max1)\n",
    "print(f_l)\n",
    "        "
   ]
  },
  {
   "cell_type": "code",
   "execution_count": 29,
   "id": "245c2153",
   "metadata": {},
   "outputs": [
    {
     "name": "stdout",
     "output_type": "stream",
     "text": [
      "6 8 2 8 "
     ]
    }
   ],
   "source": [
    "\"\"\"7. Write a Python program to print even numbers in a list?\n",
    "Ans\"\"\"\n",
    "l=[3,5,6,8,2,8]\n",
    "for i in l:\n",
    "    if(i%2==0):\n",
    "        print(i,end=\" \")"
   ]
  },
  {
   "cell_type": "code",
   "execution_count": 30,
   "id": "83c04ca5",
   "metadata": {},
   "outputs": [
    {
     "name": "stdout",
     "output_type": "stream",
     "text": [
      "3 5 "
     ]
    }
   ],
   "source": [
    "\"\"\"8. Write a Python program to print odd numbers in a List?\n",
    "Ans\"\"\"\n",
    "l=[3,5,6,8,2,8]\n",
    "for i in l:\n",
    "    if(i%2!=0):\n",
    "        print(i,end=\" \")"
   ]
  },
  {
   "cell_type": "code",
   "execution_count": 32,
   "id": "2fe3d907",
   "metadata": {},
   "outputs": [
    {
     "name": "stdout",
     "output_type": "stream",
     "text": [
      "[[1, 2, 3], True, 'asdf']\n"
     ]
    }
   ],
   "source": [
    "\"\"\"9. Write a Python program to Remove empty List from List?\n",
    "Ans\"\"\"\n",
    "list1=[[1,2,3],[],True, [],\"asdf\",[]]\n",
    "final_list=list(filter(None,list1))\n",
    "print(final_list)\n",
    "    "
   ]
  },
  {
   "cell_type": "code",
   "execution_count": 34,
   "id": "ecf23c2a",
   "metadata": {},
   "outputs": [
    {
     "name": "stdout",
     "output_type": "stream",
     "text": [
      "[[1, 2, 3, 4], True, 90, 'asdf', (8+9j)]\n"
     ]
    }
   ],
   "source": [
    "\"\"\"10. Write a Python program to Cloning or Copying a list?\n",
    "Ans\"\"\"\n",
    "list1=[[1,2,3,4],True,90,\"asdf\",8+9j]\n",
    "final_list=list(list1)\n",
    "\n",
    "print(final_list)\n"
   ]
  },
  {
   "cell_type": "code",
   "execution_count": 36,
   "id": "2d592ddd",
   "metadata": {},
   "outputs": [
    {
     "name": "stdout",
     "output_type": "stream",
     "text": [
      "3\n"
     ]
    }
   ],
   "source": [
    "\"\"\"11. Write a Python program to Count occurrences of an element in a list?\n",
    "Ans\"\"\"\n",
    "list1=[[6,7,8],1,9,4,1,8,\"asdf\",1]\n",
    "x=list1.count(1)\n",
    "print(x)"
   ]
  },
  {
   "cell_type": "code",
   "execution_count": null,
   "id": "c8134e3b",
   "metadata": {},
   "outputs": [],
   "source": []
  }
 ],
 "metadata": {
  "kernelspec": {
   "display_name": "Python 3",
   "language": "python",
   "name": "python3"
  },
  "language_info": {
   "codemirror_mode": {
    "name": "ipython",
    "version": 3
   },
   "file_extension": ".py",
   "mimetype": "text/x-python",
   "name": "python",
   "nbconvert_exporter": "python",
   "pygments_lexer": "ipython3",
   "version": "3.8.8"
  }
 },
 "nbformat": 4,
 "nbformat_minor": 5
}
